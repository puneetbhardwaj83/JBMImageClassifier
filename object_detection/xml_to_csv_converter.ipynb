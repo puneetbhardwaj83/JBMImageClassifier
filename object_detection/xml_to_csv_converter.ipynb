{
 "cells": [
  {
   "cell_type": "code",
   "execution_count": 5,
   "metadata": {},
   "outputs": [],
   "source": [
    "import os\n",
    "import glob\n",
    "import pandas as pd\n",
    "import xml.etree.ElementTree as ET\n",
    "from pprint import pprint"
   ]
  },
  {
   "cell_type": "code",
   "execution_count": 6,
   "metadata": {},
   "outputs": [],
   "source": [
    "def xml_to_csv(path):\n",
    "    xml_list = []\n",
    " #   for folder in ['61326okfront','61326ScratchMark','61326SlotDamage','61326Thinning','61326Wrinkle','613260kback']:\n",
    " #       image_path = path\n",
    " #       image_path = os.path.join(image_path, (folder))\n",
    "    for xml_file in glob.glob(path + '/*.xml'):\n",
    "        tree = ET.parse(xml_file)\n",
    "        root = tree.getroot()\n",
    "        for member in root.findall('object'):\n",
    "            value = (root.find('filename').text,\n",
    "                        int(root.find('size')[0].text),\n",
    "                        int(root.find('size')[1].text),\n",
    "                        member[0].text,\n",
    "                        int(member[4][0].text),\n",
    "                        int(member[4][1].text),\n",
    "                        int(member[4][2].text),\n",
    "                        int(member[4][3].text)\n",
    "                        )\n",
    "            xml_list.append(value)\n",
    "    column_name = ['filename', 'width', 'height', 'class', 'xmin', 'ymin', 'xmax', 'ymax']\n",
    "    xml_df = pd.DataFrame(xml_list, columns=column_name)\n",
    "    return xml_df"
   ]
  },
  {
   "cell_type": "code",
   "execution_count": 7,
   "metadata": {},
   "outputs": [],
   "source": [
    "def main():\n",
    "    for folder in ['train_61326','test_61326']:\n",
    "        image_path = os.path.join(os.getcwd(),'Images', (folder),'JPEGImages')\n",
    "        pprint(image_path)\n",
    "        xml_df = xml_to_csv(image_path)\n",
    "        xml_df.to_csv((folder + '_labels.csv'), index=None)\n",
    "        print('Successfully converted xml to csv.')\n"
   ]
  },
  {
   "cell_type": "code",
   "execution_count": 8,
   "metadata": {},
   "outputs": [
    {
     "name": "stdout",
     "output_type": "stream",
     "text": [
      "'C:\\\\tensorflow1\\\\models\\\\research\\\\object_detection\\\\Images\\\\train_61326\\\\JPEGImages'\n",
      "Successfully converted xml to csv.\n",
      "'C:\\\\tensorflow1\\\\models\\\\research\\\\object_detection\\\\Images\\\\test_61326\\\\JPEGImages'\n",
      "Successfully converted xml to csv.\n"
     ]
    }
   ],
   "source": [
    "main()"
   ]
  },
  {
   "cell_type": "code",
   "execution_count": null,
   "metadata": {},
   "outputs": [],
   "source": []
  }
 ],
 "metadata": {
  "kernelspec": {
   "display_name": "Python 3",
   "language": "python",
   "name": "python3"
  },
  "language_info": {
   "codemirror_mode": {
    "name": "ipython",
    "version": 3
   },
   "file_extension": ".py",
   "mimetype": "text/x-python",
   "name": "python",
   "nbconvert_exporter": "python",
   "pygments_lexer": "ipython3",
   "version": "3.6.6"
  }
 },
 "nbformat": 4,
 "nbformat_minor": 2
}
